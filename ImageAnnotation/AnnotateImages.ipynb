{
 "metadata": {
  "name": "",
  "signature": "sha256:a404619125c2d4311cff368202072717c219d58c087c5334f879e326b17267e7"
 },
 "nbformat": 3,
 "nbformat_minor": 0,
 "worksheets": [
  {
   "cells": [
    {
     "cell_type": "markdown",
     "metadata": {},
     "source": [
      "Use the functions below to generate a list of files for annotation "
     ]
    },
    {
     "cell_type": "markdown",
     "metadata": {},
     "source": [
      "The code in the cell below should be run within this (RightWhaleID/ImageAnnotation) folder. When run it will get a random batch of 100 images to be annotated. It will place those images in a folder (`files_for_annotation`) two levels up (alongside the `imgs` folder). After you have run this script, annotate the images using the sloth program. When you are done, use the `check_annotations` folder below to make sure that your annotations are correct. When you are happy with the json file that you created, give it a name (like `annotations_kevin_1.json`) and submit a pull request to have it included with the others."
     ]
    },
    {
     "cell_type": "code",
     "collapsed": false,
     "input": [
      "from PIL import Image, ImageDraw\n",
      "import os\n",
      "import json\n",
      "import pandas as pd\n",
      "import random\n",
      "import shutil\n",
      "\n",
      "# load all the json files in the annotations folder and make a list of the files that have been annotated\n",
      "files_to_search = [x for x in os.listdir(\"annotations/\") if '.json' in x]\n",
      "\n",
      "\n",
      "\n",
      "#this function takes in a json file of annotations and returns the set of images that are in it\n",
      "\n",
      "def get_annotated_images(infile):\n",
      "    annotated_images = set()\n",
      "    with open(\"annotations/\" + infile) as json_in:\n",
      "        annotations = json.load(json_in)\n",
      "        for annotation in annotations:\n",
      "            if annotation['annotations'] == []:\n",
      "                continue\n",
      "            filename = annotation['filename'][annotation['filename'].rfind('/') + 1:]\n",
      "            annotated_images.add(filename)\n",
      "            \n",
      "    return annotated_images\n",
      "\n",
      "\n",
      "# build the list of images that have already been annotated\n",
      "already_done = set()\n",
      "for json_file in files_to_search:\n",
      "    already_done = already_done.union(get_annotated_images(json_file))        \n",
      "            \n",
      "            \n",
      "#get list of all images\n",
      "train_data = pd.read_csv('../Data/train.csv')\n",
      "all_images = set(train_data.Image)\n",
      "\n",
      "# make a list of all files that still require annotation\n",
      "candidate_images = all_images - already_done\n",
      "\n",
      "#select a random 100 files for annotation (do get a larger or smaller batch, change this number)\n",
      "num_files_to_annotate = 100\n",
      "images_to_annotate = random.sample(candidate_images, num_files_to_annotate)\n",
      "\n",
      "# This function takes in a list of images to be annotated and moves them to a temporary folder to be used with sloth\n",
      "def get_images_for_annotation(images):\n",
      "    for image_name in images:\n",
      "        #look up the whale name\n",
      "        whale = train_data.whaleID[train_data.Image == image_name]\n",
      "        whale_name = whale.iloc[0]\n",
      "        #get filename and path of source - create a folder one level above the git repo\n",
      "        infile = '../../imgs/' + whale_name + '/' + image_name\n",
      "        #check for annoations folder, if it's not there, create it\n",
      "        if not os.path.exists('../../files_for_annotation/'):\n",
      "                os.makedirs('../../files_for_annotation/')\n",
      "                \n",
      "        outfile = '../../files_for_annotation/' + image_name\n",
      "        \n",
      "        shutil.copy(infile, outfile)\n",
      "        \n",
      "get_images_for_annotation(images_to_annotate)\n"
     ],
     "language": "python",
     "metadata": {},
     "outputs": [],
     "prompt_number": 138
    },
    {
     "cell_type": "markdown",
     "metadata": {},
     "source": [
      "The function below is used to proofread annotations that you have made. It will create a group of images using your annotations to draw <span style=\"color:yellow\">yellow</span> boxes around the whale heads and <span style=\"color:red\">red</span> boxes around negative areas (that don't contain whales)."
     ]
    },
    {
     "cell_type": "code",
     "collapsed": true,
     "input": [
      "# a function to generated annotated images from a json file of whale annotations\n",
      "\n",
      "# this function assumes that there is an imgs folder two levels up and that the images in that folder have been sorted\n",
      "# with the script found here:  https://www.kaggle.com/c/noaa-right-whale-recognition/forums/t/16275/python-script-to-sort-images/91274#post91274\n",
      "\n",
      "def check_annotations(jsonfile):\n",
      "    #open the json\n",
      "    with open(jsonfile, 'rb') as infile:\n",
      "        annotations = json.load(infile)\n",
      "        for annotation in annotations:\n",
      "            #if the annotation is empty, continue\n",
      "            if annotation['annotations'] == []:\n",
      "                continue\n",
      "            #open the image file and create a ImageDraw.Draw object\n",
      "            filename = annotation['filename'][annotation['filename'].rfind('/') + 1:]\n",
      "            whale_folder = annotation['filename'][:annotation['filename'].rfind('/')][annotation['filename'][:annotation['filename'].rfind('/')].rfind('/')+ 1:]\n",
      "            im = Image.open(\"../../imgs/\" + whale_folder + '/' + filename)\n",
      "            draw = ImageDraw.Draw(im)\n",
      "            for item in annotation['annotations']:\n",
      "                if item['class'] == 'Head':\n",
      "                    line_color = \"yellow\"\n",
      "                elif item['class'] == 'neg':\n",
      "                    line_color = \"red\"\n",
      "                else:\n",
      "                    continue\n",
      "                #draw the rectangle\n",
      "                x,y,w,h = item['x'], item['y'], item['width'], item['height']\n",
      "                for i in range(12): #this controls the width of the line drawn\n",
      "                    draw.rectangle(((x-i,y-i), (x+w+i,y+h+i)), outline = line_color)\n",
      "                    \n",
      "            #check for the directory, create it if it isn't there.\n",
      "            if not os.path.exists('../../marked_images/'):\n",
      "                os.makedirs('../../marked_images/')\n",
      "            im.save('../../marked_images/marked_' + filename)\n",
      "            \n",
      "    \n",
      "    \n",
      "    \n",
      "    \n",
      "    "
     ],
     "language": "python",
     "metadata": {},
     "outputs": [],
     "prompt_number": 57
    },
    {
     "cell_type": "code",
     "collapsed": false,
     "input": [
      "check_annotations('annotations/whale_faces_kburnham.json')"
     ],
     "language": "python",
     "metadata": {},
     "outputs": [],
     "prompt_number": 149
    },
    {
     "cell_type": "code",
     "collapsed": false,
     "input": [
      "cd .."
     ],
     "language": "python",
     "metadata": {},
     "outputs": [
      {
       "output_type": "stream",
       "stream": "stdout",
       "text": [
        "/Users/kb/Documents/Kaggle/RightWhaleID/ImageAnnotation\n"
       ]
      }
     ],
     "prompt_number": 148
    },
    {
     "cell_type": "code",
     "collapsed": false,
     "input": [
      "### Make master file - running this script will create a master file of annotations one level up\n",
      "\n"
     ],
     "language": "python",
     "metadata": {},
     "outputs": []
    },
    {
     "cell_type": "code",
     "collapsed": false,
     "input": [
      "ls"
     ],
     "language": "python",
     "metadata": {},
     "outputs": [
      {
       "output_type": "stream",
       "stream": "stdout",
       "text": [
        "kb_new.json                whale_faces_kburnham.json\r\n"
       ]
      }
     ],
     "prompt_number": 145
    },
    {
     "cell_type": "code",
     "collapsed": false,
     "input": [],
     "language": "python",
     "metadata": {},
     "outputs": []
    }
   ],
   "metadata": {}
  }
 ]
}