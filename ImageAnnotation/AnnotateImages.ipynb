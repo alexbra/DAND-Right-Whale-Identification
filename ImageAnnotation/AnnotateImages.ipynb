{
 "metadata": {
  "name": "",
  "signature": "sha256:8387d05412b1e6f72fd915dd57e9efd54a2e0fcfe82e335a1a0b715bdb98e5b3"
 },
 "nbformat": 3,
 "nbformat_minor": 0,
 "worksheets": [
  {
   "cells": [
    {
     "cell_type": "markdown",
     "metadata": {},
     "source": [
      "Use the functions below to generate a list of files for annotation "
     ]
    },
    {
     "cell_type": "markdown",
     "metadata": {},
     "source": [
      "The code in the cell below should be run within this (RightWhaleID/ImageAnnotation) folder. When run it will get a random batch of 100 images to be annotated. It will place those images in a folder (`files_for_annotation`) two levels up (alongside the `imgs` folder). After you have run this script, annotate the images using the sloth program. When you are done, use the `check_annotations` folder below to make sure that your annotations are correct. When you are happy with the json file that you created, give it a name (like `annotations_kevin_1.json`) and submit a pull request to have it included with the others."
     ]
    },
    {
     "cell_type": "code",
     "collapsed": false,
     "input": [
      "from PIL import Image, ImageDraw\n",
      "import os\n",
      "import json\n",
      "import pandas as pd\n",
      "import random\n",
      "import shutil\n",
      "\n",
      "# load all the json files in the annotations folder and make a list of the files that have been annotated\n",
      "files_to_search = [x for x in os.listdir(\"annotations/\") if '.json' in x]\n",
      "\n",
      "\n",
      "\n",
      "#this function takes in a json file of annotations and returns the set of images that are in it\n",
      "\n",
      "def get_annotated_images(infile):\n",
      "    annotated_images = set()\n",
      "    with open(\"annotations/\" + infile) as json_in:\n",
      "        annotations = json.load(json_in)\n",
      "        for annotation in annotations:\n",
      "            if annotation['annotations'] == []:\n",
      "                continue\n",
      "            filename = annotation['filename'][annotation['filename'].rfind('/') + 1:]\n",
      "            annotated_images.add(filename)\n",
      "            \n",
      "    return annotated_images\n",
      "\n",
      "\n",
      "# build the list of images that have already been annotated\n",
      "already_done = set()\n",
      "for json_file in files_to_search:\n",
      "    already_done = already_done.union(get_annotated_images(json_file)) \n",
      "    \n",
      "print(\"Images annotated so far . . . \" + str(len(already_done)))\n",
      "            \n",
      "            \n",
      "#get list of all images\n",
      "train_data = pd.read_csv('../Data/train.csv')\n",
      "all_images = set(train_data.Image)\n",
      "\n",
      "# make a list of all files that still require annotation\n",
      "candidate_images = all_images - already_done\n",
      "print(\"Images still requiring annotation . . . \" + str(len(candidate_images)))\n",
      "\n",
      "#select a random 100 files for annotation (do get a larger or smaller batch, change this number)\n",
      "num_files_to_annotate = 100\n",
      "images_to_annotate = random.sample(candidate_images, num_files_to_annotate)\n",
      "\n",
      "# This function takes in a list of images to be annotated and moves them to a temporary folder to be used with sloth\n",
      "def get_images_for_annotation(images):\n",
      "    if not os.path.exists('../../files_for_annotation/'):\n",
      "        os.makedirs('../../files_for_annotation/')\n",
      "    # clear out any prexisiting images \n",
      "    for jpg in os.listdir('../../files_for_annotation/'):\n",
      "        os.remove('../../files_for_annotation/' + jpg)\n",
      "    for image_name in images:\n",
      "        #look up the whale name\n",
      "        whale = train_data.whaleID[train_data.Image == image_name]\n",
      "        whale_name = whale.iloc[0]\n",
      "        #get filename and path of source - create a folder one level above the git repo\n",
      "        infile = '../../imgs/' + whale_name + '/' + image_name\n",
      "        #check for annoations folder, if it's not there, create it\n",
      "        \n",
      "                \n",
      "        outfile = '../../files_for_annotation/' + image_name\n",
      "        \n",
      "        shutil.copy(infile, outfile)\n",
      "        \n",
      "get_images_for_annotation(images_to_annotate)\n"
     ],
     "language": "python",
     "metadata": {},
     "outputs": [
      {
       "output_type": "stream",
       "stream": "stdout",
       "text": [
        "Images annotated so far . . . 1024\n",
        "Images still requiring annotation . . . 3520\n"
       ]
      }
     ],
     "prompt_number": 1
    },
    {
     "cell_type": "code",
     "collapsed": false,
     "input": [
      "files_to_search"
     ],
     "language": "python",
     "metadata": {},
     "outputs": [
      {
       "metadata": {},
       "output_type": "pyout",
       "prompt_number": 85,
       "text": [
        "['burnham3 6.14.11 PM.json',\n",
        " 'burnham3.json',\n",
        " 'kb2.json',\n",
        " 'whale_faces_kburnham.json']"
       ]
      }
     ],
     "prompt_number": 85
    },
    {
     "cell_type": "markdown",
     "metadata": {},
     "source": [
      "The function below is used to proofread annotations that you have made. It will create a group of images using your annotations to draw <span style=\"color:yellow\">yellow</span> boxes around the whale heads and <span style=\"color:red\">red</span> boxes around negative areas (that don't contain whales)."
     ]
    },
    {
     "cell_type": "code",
     "collapsed": true,
     "input": [
      "# a function to generated annotated images from a json file of whale annotations\n",
      "\n",
      "# this function assumes that there is an imgs folder two levels up and that the images in that folder have been sorted\n",
      "# with the script found here:  https://www.kaggle.com/c/noaa-right-whale-recognition/forums/t/16275/python-script-to-sort-images/91274#post91274\n",
      "\n",
      "\n",
      "#make sure you have loaded the global \n",
      "def check_annotations(jsonfile):\n",
      "    train_data = pd.read_csv('../Data/train.csv')\n",
      "    #open the json\n",
      "    with open(jsonfile, 'rb') as infile:\n",
      "        annotations = json.load(infile)\n",
      "        for annotation in annotations:\n",
      "            #if the annotation is empty, continue\n",
      "            if annotation['annotations'] == []:\n",
      "                continue\n",
      "            #open the image file and create a ImageDraw.Draw object\n",
      "            filename = annotation['filename'][annotation['filename'].rfind('/') + 1:]\n",
      "            whale = train_data.whaleID[train_data.Image == filename]\n",
      "            whale_folder = whale.iloc[0]\n",
      "            im = Image.open(\"../../imgs/\" + whale_folder + '/' + filename)\n",
      "            draw = ImageDraw.Draw(im)\n",
      "            for item in annotation['annotations']:\n",
      "                #set line color\n",
      "                if item['class'] == 'Head':\n",
      "                    line_color = \"yellow\"\n",
      "                elif item['class'] == 'neg':\n",
      "                    line_color = \"red\"\n",
      "                else:\n",
      "                    continue\n",
      "                #draw the rectangle\n",
      "                x,y,w,h = item['x'], item['y'], item['width'], item['height']\n",
      "                for i in range(12): #this controls the width of the line drawn\n",
      "                    draw.rectangle(((x-i,y-i), (x+w+i,y+h+i)), outline = line_color)\n",
      "                    \n",
      "            #check for the directory, create it if it isn't there.\n",
      "            if not os.path.exists('../../marked_images/'):\n",
      "                os.makedirs('../../marked_images/')\n",
      "            im.save('../../marked_images/marked_' + filename)\n",
      "            \n",
      "    \n",
      "    \n",
      "    \n",
      "    \n",
      "    "
     ],
     "language": "python",
     "metadata": {},
     "outputs": [],
     "prompt_number": 91
    },
    {
     "cell_type": "code",
     "collapsed": false,
     "input": [
      "check_annotations('annotations/burnham11.json')"
     ],
     "language": "python",
     "metadata": {},
     "outputs": [],
     "prompt_number": 112
    },
    {
     "cell_type": "code",
     "collapsed": false,
     "input": [
      "## if you find a faulty entry while proofreading, you can use this function to remove the entry from your json and put the image back in the queue\n",
      "def delete_entry(image, jsonfile):\n",
      "    with open(jsonfile, 'rb') as infile:\n",
      "        json_in = json.load(infile)\n",
      "        \n",
      "        new_json = [annotation for annotation in json_in if annotation['filename'][annotation['filename'].rfind('/') + 1:] != image]\n",
      "        \n",
      "    with open(jsonfile, 'wb') as outfile:\n",
      "        json.dump(new_json, outfile)\n",
      "        \n",
      "    \n",
      "                \n",
      "            \n",
      "        \n",
      "            "
     ],
     "language": "python",
     "metadata": {},
     "outputs": [],
     "prompt_number": 122
    }
   ],
   "metadata": {}
  }
 ]
}