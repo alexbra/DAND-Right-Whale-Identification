{
 "metadata": {
  "name": "",
  "signature": "sha256:5bb2d2aa38c0d35760b15bf4bb1f6375b27e57888465f2bda27437f8763ab73a"
 },
 "nbformat": 3,
 "nbformat_minor": 0,
 "worksheets": [
  {
   "cells": [
    {
     "cell_type": "markdown",
     "metadata": {},
     "source": [
      "The purpose of the script here is to take the data of each of the OpenCV classifiers found in this folder and create a dataframe of the parameter settings for each of the classifiers.\n",
      "\n",
      "In the future, we will also want to add the results obtained from the classifiers to this dataframe.\n",
      "\n",
      "Also, although the classifier files contain information about the parameter settings used, they do not contain information about the specific images used to train them. Therefore, we also need to link these classifiers to the bg.txt (list of negatives used in training) and the info.data (list of positive annotations used in training). \n"
     ]
    },
    {
     "cell_type": "code",
     "collapsed": false,
     "input": [
      "import pandas as pd\n",
      "import xml.etree.ElementTree as ET\n",
      "import pprint\n",
      "import os"
     ],
     "language": "python",
     "metadata": {},
     "outputs": [],
     "prompt_number": 52
    },
    {
     "cell_type": "code",
     "collapsed": false,
     "input": [
      "# this function will process a classifier.xml and return a dictionary with it's parameter settings\n",
      "def get_parameters(xmlfile):\n",
      "    tree = ET.parse(xmlfile)\n",
      "    root = tree.getroot()\n",
      "    parameters = {}\n",
      "    parameters['Classifier'] = xmlfile\n",
      "    for child in root:\n",
      "        for x in child:\n",
      "            if '   ' not in x.text:\n",
      "                parameters[x.tag] = x.text\n",
      "            for y in x:\n",
      "                if '   ' not in y.text:\n",
      "                    parameters[y.tag] = y.text\n",
      "    return parameters\n",
      "    \n",
      "    "
     ],
     "language": "python",
     "metadata": {},
     "outputs": [],
     "prompt_number": 65
    },
    {
     "cell_type": "code",
     "collapsed": false,
     "input": [
      "# this function goes through all of the .xml files in this directory and makes a single data frame showing the paramters used\n",
      "# in training each of the classifiers.\n",
      "def make_parameter_df():\n",
      "    classifiers = [xmlfile for xmlfile in os.listdir(os.getcwd()) if '.xml' in xmlfile]\n",
      "    parameters = []\n",
      "    for xmlfile in classifiers:\n",
      "        parameters.append(get_parameters(xmlfile))\n",
      "    return pd.DataFrame(parameters)\n",
      "    \n",
      "    "
     ],
     "language": "python",
     "metadata": {},
     "outputs": [],
     "prompt_number": 66
    },
    {
     "cell_type": "code",
     "collapsed": false,
     "input": [
      "parameters = make_parameter_df()"
     ],
     "language": "python",
     "metadata": {},
     "outputs": [],
     "prompt_number": 67
    },
    {
     "cell_type": "code",
     "collapsed": false,
     "input": [
      "parameters"
     ],
     "language": "python",
     "metadata": {},
     "outputs": [
      {
       "html": [
        "<div style=\"max-height:1000px;max-width:1500px;overflow:auto;\">\n",
        "<table border=\"1\" class=\"dataframe\">\n",
        "  <thead>\n",
        "    <tr style=\"text-align: right;\">\n",
        "      <th></th>\n",
        "      <th>Classifier</th>\n",
        "      <th>boostType</th>\n",
        "      <th>featSize</th>\n",
        "      <th>featureType</th>\n",
        "      <th>height</th>\n",
        "      <th>maxCatCount</th>\n",
        "      <th>maxDepth</th>\n",
        "      <th>maxFalseAlarm</th>\n",
        "      <th>maxWeakCount</th>\n",
        "      <th>minHitRate</th>\n",
        "      <th>mode</th>\n",
        "      <th>stageNum</th>\n",
        "      <th>stageType</th>\n",
        "      <th>weightTrimRate</th>\n",
        "      <th>width</th>\n",
        "    </tr>\n",
        "  </thead>\n",
        "  <tbody>\n",
        "    <tr>\n",
        "      <th>0</th>\n",
        "      <td>  whale_classifier.xml</td>\n",
        "      <td> GAB</td>\n",
        "      <td> 1</td>\n",
        "      <td> HAAR</td>\n",
        "      <td> 24</td>\n",
        "      <td>   0</td>\n",
        "      <td> 1</td>\n",
        "      <td> 5.0000000000000000e-01</td>\n",
        "      <td> 100</td>\n",
        "      <td> 9.9500000476837158e-01</td>\n",
        "      <td> ALL</td>\n",
        "      <td>  4</td>\n",
        "      <td> BOOST</td>\n",
        "      <td> 9.4999999999999996e-01</td>\n",
        "      <td> 24</td>\n",
        "    </tr>\n",
        "    <tr>\n",
        "      <th>1</th>\n",
        "      <td> whale_classifier2.xml</td>\n",
        "      <td> GAB</td>\n",
        "      <td> 1</td>\n",
        "      <td>  LBP</td>\n",
        "      <td> 24</td>\n",
        "      <td> 256</td>\n",
        "      <td> 1</td>\n",
        "      <td> 5.0000000000000000e-01</td>\n",
        "      <td> 100</td>\n",
        "      <td> 9.9500000476837158e-01</td>\n",
        "      <td> NaN</td>\n",
        "      <td> 20</td>\n",
        "      <td> BOOST</td>\n",
        "      <td> 9.4999999999999996e-01</td>\n",
        "      <td> 24</td>\n",
        "    </tr>\n",
        "  </tbody>\n",
        "</table>\n",
        "</div>"
       ],
       "metadata": {},
       "output_type": "pyout",
       "prompt_number": 68,
       "text": [
        "              Classifier boostType featSize featureType height maxCatCount  \\\n",
        "0   whale_classifier.xml       GAB        1        HAAR     24           0   \n",
        "1  whale_classifier2.xml       GAB        1         LBP     24         256   \n",
        "\n",
        "  maxDepth           maxFalseAlarm maxWeakCount              minHitRate mode  \\\n",
        "0        1  5.0000000000000000e-01          100  9.9500000476837158e-01  ALL   \n",
        "1        1  5.0000000000000000e-01          100  9.9500000476837158e-01  NaN   \n",
        "\n",
        "  stageNum stageType          weightTrimRate width  \n",
        "0        4     BOOST  9.4999999999999996e-01    24  \n",
        "1       20     BOOST  9.4999999999999996e-01    24  "
       ]
      }
     ],
     "prompt_number": 68
    },
    {
     "cell_type": "code",
     "collapsed": false,
     "input": [
      "cols = ['Classifier','stageType','featureType','height','width','boostType','minHitRate', 'maxFalseAlarm','weightTrimRate','maxDepth','maxWeakCount','maxCatCount','featSize','mode','stageNum']\n"
     ],
     "language": "python",
     "metadata": {},
     "outputs": [],
     "prompt_number": 79
    },
    {
     "cell_type": "code",
     "collapsed": false,
     "input": [
      "test = parameters[cols]"
     ],
     "language": "python",
     "metadata": {},
     "outputs": [],
     "prompt_number": 81
    },
    {
     "cell_type": "code",
     "collapsed": false,
     "input": [
      "test"
     ],
     "language": "python",
     "metadata": {},
     "outputs": [
      {
       "html": [
        "<div style=\"max-height:1000px;max-width:1500px;overflow:auto;\">\n",
        "<table border=\"1\" class=\"dataframe\">\n",
        "  <thead>\n",
        "    <tr style=\"text-align: right;\">\n",
        "      <th></th>\n",
        "      <th>Classifier</th>\n",
        "      <th>stageType</th>\n",
        "      <th>featureType</th>\n",
        "      <th>height</th>\n",
        "      <th>width</th>\n",
        "      <th>boostType</th>\n",
        "      <th>minHitRate</th>\n",
        "      <th>maxFalseAlarm</th>\n",
        "      <th>weightTrimRate</th>\n",
        "      <th>maxDepth</th>\n",
        "      <th>maxWeakCount</th>\n",
        "      <th>maxCatCount</th>\n",
        "      <th>featSize</th>\n",
        "      <th>mode</th>\n",
        "      <th>stageNum</th>\n",
        "    </tr>\n",
        "  </thead>\n",
        "  <tbody>\n",
        "    <tr>\n",
        "      <th>0</th>\n",
        "      <td>  whale_classifier.xml</td>\n",
        "      <td> BOOST</td>\n",
        "      <td> HAAR</td>\n",
        "      <td> 24</td>\n",
        "      <td> 24</td>\n",
        "      <td> GAB</td>\n",
        "      <td> 9.9500000476837158e-01</td>\n",
        "      <td> 5.0000000000000000e-01</td>\n",
        "      <td> 9.4999999999999996e-01</td>\n",
        "      <td> 1</td>\n",
        "      <td> 100</td>\n",
        "      <td>   0</td>\n",
        "      <td> 1</td>\n",
        "      <td> ALL</td>\n",
        "      <td>  4</td>\n",
        "    </tr>\n",
        "    <tr>\n",
        "      <th>1</th>\n",
        "      <td> whale_classifier2.xml</td>\n",
        "      <td> BOOST</td>\n",
        "      <td>  LBP</td>\n",
        "      <td> 24</td>\n",
        "      <td> 24</td>\n",
        "      <td> GAB</td>\n",
        "      <td> 9.9500000476837158e-01</td>\n",
        "      <td> 5.0000000000000000e-01</td>\n",
        "      <td> 9.4999999999999996e-01</td>\n",
        "      <td> 1</td>\n",
        "      <td> 100</td>\n",
        "      <td> 256</td>\n",
        "      <td> 1</td>\n",
        "      <td> NaN</td>\n",
        "      <td> 20</td>\n",
        "    </tr>\n",
        "  </tbody>\n",
        "</table>\n",
        "</div>"
       ],
       "metadata": {},
       "output_type": "pyout",
       "prompt_number": 82,
       "text": [
        "              Classifier stageType featureType height width boostType  \\\n",
        "0   whale_classifier.xml     BOOST        HAAR     24    24       GAB   \n",
        "1  whale_classifier2.xml     BOOST         LBP     24    24       GAB   \n",
        "\n",
        "               minHitRate           maxFalseAlarm          weightTrimRate  \\\n",
        "0  9.9500000476837158e-01  5.0000000000000000e-01  9.4999999999999996e-01   \n",
        "1  9.9500000476837158e-01  5.0000000000000000e-01  9.4999999999999996e-01   \n",
        "\n",
        "  maxDepth maxWeakCount maxCatCount featSize mode stageNum  \n",
        "0        1          100           0        1  ALL        4  \n",
        "1        1          100         256        1  NaN       20  "
       ]
      }
     ],
     "prompt_number": 82
    },
    {
     "cell_type": "code",
     "collapsed": false,
     "input": [
      "test_dict = {}\n",
      "for child in root:\n",
      "    for x in child:\n",
      "        if '   ' not in x.text:\n",
      "            test_dict[x.tag] = x.text\n",
      "        for y in x:\n",
      "            if '   ' not in y.text:\n",
      "                test_dict[y.tag] = y.text\n",
      "pprint.pprint(test_dict)\n",
      "        "
     ],
     "language": "python",
     "metadata": {},
     "outputs": [
      {
       "output_type": "stream",
       "stream": "stdout",
       "text": [
        "{'boostType': 'GAB',\n",
        " 'featSize': '1',\n",
        " 'featureType': 'HAAR',\n",
        " 'height': '24',\n",
        " 'maxCatCount': '0',\n",
        " 'maxDepth': '1',\n",
        " 'maxFalseAlarm': '5.0000000000000000e-01',\n",
        " 'maxWeakCount': '100',\n",
        " 'minHitRate': '9.9500000476837158e-01',\n",
        " 'mode': 'ALL',\n",
        " 'stageNum': '4',\n",
        " 'stageType': 'BOOST',\n",
        " 'weightTrimRate': '9.4999999999999996e-01',\n",
        " 'width': '24'}\n"
       ]
      }
     ],
     "prompt_number": 45
    },
    {
     "cell_type": "code",
     "collapsed": false,
     "input": [
      "test_dict"
     ],
     "language": "python",
     "metadata": {},
     "outputs": [
      {
       "metadata": {},
       "output_type": "pyout",
       "prompt_number": 32,
       "text": [
        "{'_': '\\n      ',\n",
        " 'boostType': 'GAB',\n",
        " 'featSize': '1',\n",
        " 'featureParams': '\\n    ',\n",
        " 'featureType': 'HAAR',\n",
        " 'features': '\\n    ',\n",
        " 'height': '24',\n",
        " 'maxCatCount': '0',\n",
        " 'maxDepth': '1',\n",
        " 'maxFalseAlarm': '5.0000000000000000e-01',\n",
        " 'maxWeakCount': '100',\n",
        " 'minHitRate': '9.9500000476837158e-01',\n",
        " 'mode': 'ALL',\n",
        " 'stageNum': '4',\n",
        " 'stageParams': '\\n    ',\n",
        " 'stageType': 'BOOST',\n",
        " 'stages': '\\n    \\n    ',\n",
        " 'weightTrimRate': '9.4999999999999996e-01',\n",
        " 'width': '24'}"
       ]
      }
     ],
     "prompt_number": 32
    },
    {
     "cell_type": "code",
     "collapsed": false,
     "input": [
      "ls"
     ],
     "language": "python",
     "metadata": {},
     "outputs": [
      {
       "output_type": "stream",
       "stream": "stdout",
       "text": [
        "Untitled0.ipynb        whale_classifier.xml   whale_classifier2.xml\r\n"
       ]
      }
     ],
     "prompt_number": 51
    },
    {
     "cell_type": "code",
     "collapsed": false,
     "input": [
      "os.listdir()"
     ],
     "language": "python",
     "metadata": {},
     "outputs": [
      {
       "ename": "TypeError",
       "evalue": "listdir() takes exactly 1 argument (0 given)",
       "output_type": "pyerr",
       "traceback": [
        "\u001b[0;31m---------------------------------------------------------------------------\u001b[0m\n\u001b[0;31mTypeError\u001b[0m                                 Traceback (most recent call last)",
        "\u001b[0;32m<ipython-input-56-eff7f7465dbc>\u001b[0m in \u001b[0;36m<module>\u001b[0;34m()\u001b[0m\n\u001b[0;32m----> 1\u001b[0;31m \u001b[0mos\u001b[0m\u001b[0;34m.\u001b[0m\u001b[0mlistdir\u001b[0m\u001b[0;34m(\u001b[0m\u001b[0;34m)\u001b[0m\u001b[0;34m\u001b[0m\u001b[0m\n\u001b[0m",
        "\u001b[0;31mTypeError\u001b[0m: listdir() takes exactly 1 argument (0 given)"
       ]
      }
     ],
     "prompt_number": 56
    },
    {
     "cell_type": "code",
     "collapsed": false,
     "input": [],
     "language": "python",
     "metadata": {},
     "outputs": []
    }
   ],
   "metadata": {}
  }
 ]
}